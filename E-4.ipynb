{
 "cells": [
  {
   "cell_type": "code",
   "execution_count": 11,
   "metadata": {},
   "outputs": [
    {
     "name": "stdout",
     "output_type": "stream",
     "text": [
      "['Hello Dear', 'Hello Sir', 'take Dear', 'take Sir']\n"
     ]
    }
   ],
   "source": [
    "# Exercise 4: Concatenate two lists in the following order\n",
    "\n",
    "#Input= list1 = [\"Hello \", \"take \"]\n",
    "# Input= list2 = [\"Dear\", \"Sir\"]\n",
    "# Output= ['Hello Dear', 'Hello Sir', 'take Dear', 'take Sir']\n",
    "l1 = [\"Hello \", \"take \"]\n",
    "l2 = [\"Dear\", \"Sir\"]\n",
    "l3=[i+j for i in l1 for j in l2]\n",
    "print(l3)\n",
    "\n",
    "\n",
    "\n",
    "\n",
    "\n"
   ]
  },
  {
   "cell_type": "code",
   "execution_count": null,
   "metadata": {},
   "outputs": [],
   "source": []
  }
 ],
 "metadata": {
  "kernelspec": {
   "display_name": "Python 3",
   "language": "python",
   "name": "python3"
  },
  "language_info": {
   "codemirror_mode": {
    "name": "ipython",
    "version": 3
   },
   "file_extension": ".py",
   "mimetype": "text/x-python",
   "name": "python",
   "nbconvert_exporter": "python",
   "pygments_lexer": "ipython3",
   "version": "3.7.6"
  }
 },
 "nbformat": 4,
 "nbformat_minor": 4
}
